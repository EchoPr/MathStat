{
 "cells": [
  {
   "cell_type": "code",
   "execution_count": 32,
   "metadata": {},
   "outputs": [],
   "source": [
    "import numpy as np\n",
    "from scipy.stats import chi2, poisson, kstest, norm"
   ]
  },
  {
   "cell_type": "markdown",
   "metadata": {},
   "source": [
    "<h1>T7</h1>"
   ]
  },
  {
   "cell_type": "code",
   "execution_count": 33,
   "metadata": {},
   "outputs": [
    {
     "name": "stdout",
     "output_type": "stream",
     "text": [
      "λ (оценка) = 0.61\n",
      "χ² = 0.1923\n",
      "df = 2\n",
      "p-value = 0.9083\n"
     ]
    }
   ],
   "source": [
    "\n",
    "i = np.array([0, 1, 2, 3, 4])\n",
    "mi = np.array([109, 65, 22, 3, 1])\n",
    "n = mi.sum()\n",
    "\n",
    "# Оценка λ\n",
    "lambda_hat = (i * mi).sum() / n\n",
    "\n",
    "k_values = np.arange(0, 5) \n",
    "probs = poisson.pmf(k_values, lambda_hat)\n",
    "\n",
    "probs[3] += poisson.sf(4, lambda_hat)\n",
    "nu = n * probs\n",
    "\n",
    "data = np.array([109, 65, 22, 4])\n",
    "\n",
    "chi2_stat = ((data - nu[:4])**2 / nu[:4]).sum()\n",
    "\n",
    "df = 2 \n",
    "\n",
    "# p-value\n",
    "p_value = chi2.sf(chi2_stat, df)\n",
    "\n",
    "print(f\"λ (оценка) = {lambda_hat:.2f}\")\n",
    "print(f\"χ² = {chi2_stat:.4f}\")\n",
    "print(f\"df = {df}\")\n",
    "print(f\"p-value = {p_value:.4f}\")"
   ]
  },
  {
   "cell_type": "markdown",
   "metadata": {},
   "source": [
    "<h1>T8</h1>"
   ]
  },
  {
   "cell_type": "code",
   "execution_count": 34,
   "metadata": {},
   "outputs": [
    {
     "name": "stdout",
     "output_type": "stream",
     "text": [
      "Chi2-статистика: 20.4826\n",
      "Степени свободы: 2\n",
      "p-value: 3.566569773595299e-05\n",
      "Ожидаемые частоты:\n",
      "[[38.5 45.5 16. ]\n",
      " [38.5 45.5 16. ]]\n"
     ]
    }
   ],
   "source": [
    "import numpy as np\n",
    "from scipy.stats import chi2_contingency\n",
    "\n",
    "data = np.array([\n",
    "    [25, 50, 25],\n",
    "    [52, 41, 7],\n",
    "])\n",
    "\n",
    "chi2_stat, p_value, dof, nu = chi2_contingency(data)\n",
    "\n",
    "print(f\"Chi2-статистика: {chi2_stat:.4f}\")\n",
    "print(f\"Степени свободы: {dof}\")\n",
    "print(f\"p-value: {p_value}\")\n",
    "print(\"Ожидаемые частоты:\")\n",
    "print(nu)\n"
   ]
  },
  {
   "cell_type": "markdown",
   "metadata": {},
   "source": [
    "<h1>T9</h1>"
   ]
  },
  {
   "cell_type": "code",
   "execution_count": 35,
   "metadata": {},
   "outputs": [
    {
     "name": "stdout",
     "output_type": "stream",
     "text": [
      "Chi2-статистика: 2.0771\n",
      "Степени свободы: 3\n",
      "p-value: 0.5566\n",
      "Ожидаемые частоты при однородности:\n",
      "[[ 36.  39.  76. 149.]\n",
      " [ 36.  39.  76. 149.]]\n"
     ]
    }
   ],
   "source": [
    "import numpy as np\n",
    "from scipy.stats import chi2_contingency\n",
    "\n",
    "data = np.array([\n",
    "    [33, 43, 80, 144],\n",
    "    [39, 35, 72, 154],\n",
    "])\n",
    "\n",
    "chi2_stat, p_value, dof, nu = chi2_contingency(data)\n",
    "\n",
    "print(f\"Chi2-статистика: {chi2_stat:.4f}\")\n",
    "print(f\"Степени свободы: {dof}\")\n",
    "print(f\"p-value: {p_value:.4f}\")\n",
    "print(\"Ожидаемые частоты при однородности:\")\n",
    "print(nu)\n"
   ]
  },
  {
   "cell_type": "markdown",
   "metadata": {},
   "source": [
    "<h1>T10</h1>"
   ]
  },
  {
   "cell_type": "code",
   "execution_count": 36,
   "metadata": {},
   "outputs": [
    {
     "name": "stdout",
     "output_type": "stream",
     "text": [
      "Пирсон:\n",
      "χ² = 16.4000\n",
      "p-value (χ²) = 0.0590\n",
      "\n",
      "Колмогоров:\n",
      "D = 0.1433\n",
      "p-value (K) = 0.0296\n",
      "\n",
      "Пирсон:\n",
      "μ = 4.77, σ² = 6.28\n",
      "χ² = 13.0506, df = 2, p-value = 0.0015\n",
      "\n",
      "Колмогоров:\n",
      "K: D = 0.1013, p-value = 0.2393\n"
     ]
    }
   ],
   "source": [
    "data = np.array([5, 8, 6, 12, 14, 18, 11, 6, 13, 7])\n",
    "n = data.sum()\n",
    "\n",
    "\n",
    "\n",
    "\n",
    "# a) Пирсон\n",
    "nu = np.full(10, n / 10)  # [10, 10, ..., 10]\n",
    "\n",
    "chi2_stat = ((data - nu)**2 / nu).sum()\n",
    "p_value_chi2 = chi2.sf(chi2_stat, df=9)\n",
    "\n",
    "print(\"Пирсон:\")\n",
    "print(f\"χ² = {chi2_stat:.4f}\")\n",
    "print(f\"p-value (χ²) = {p_value_chi2:.4f}\\n\")\n",
    "\n",
    "\n",
    "\n",
    "\n",
    "\n",
    "# a) Колмогоров\n",
    "data = np.repeat(np.arange(10), data)\n",
    "\n",
    "ks_stat, p_value_ks = kstest(data, 'uniform', args=(0, 9))  # args: min, max\n",
    "\n",
    "print(\"Колмогоров:\")\n",
    "print(f\"D = {ks_stat:.4f}\")\n",
    "print(f\"p-value (K) = {p_value_ks:.4f}\\n\")\n",
    "\n",
    "\n",
    "\n",
    "\n",
    "# б) Пирсон\n",
    "digits = np.arange(10)\n",
    "frequencies = np.array([5, 8, 6, 12, 14, 18, 11, 6, 13, 7])\n",
    "n = frequencies.sum()  # 100\n",
    "\n",
    "mu_hat = np.sum(digits * frequencies) / n\n",
    "sigma2_hat = np.sum((digits - mu_hat)**2 * frequencies) / n\n",
    "sigma_hat = np.sqrt(sigma2_hat)\n",
    "\n",
    "bins = [-np.inf, 2, 4, 6, 8, np.inf]\n",
    "observed, _ = np.histogram(np.repeat(digits, frequencies), bins=bins)\n",
    "\n",
    "expected = []\n",
    "for i in range(len(bins)-1):\n",
    "    prob = norm.cdf(bins[i+1], mu_hat, sigma_hat) - norm.cdf(bins[i], mu_hat, sigma_hat)\n",
    "    expected.append(prob * n)\n",
    "expected = np.array(expected)\n",
    "\n",
    "chi2_stat = np.sum((observed - expected)**2 / expected)\n",
    "df = len(observed) - 1 - 2  # df = k - 1 - число оценённых параметров\n",
    "p_value_chi2 = chi2.sf(chi2_stat, df)\n",
    "\n",
    "print(\"Пирсон:\")\n",
    "print(f\"μ = {mu_hat:.2f}, σ² = {sigma2_hat:.2f}\")\n",
    "print(f\"χ² = {chi2_stat:.4f}, df = {df}, p-value = {p_value_chi2:.4f}\\n\")\n",
    "\n",
    "# б) Колмогоров\n",
    "data = np.repeat(digits, frequencies)\n",
    "\n",
    "ks_stat, p_value_ks = kstest(data, 'norm', args=(mu_hat, sigma_hat))\n",
    "\n",
    "print(\"Колмогоров:\")\n",
    "print(f\"K: D = {ks_stat:.4f}, p-value = {p_value_ks:.4f}\")\n"
   ]
  },
  {
   "cell_type": "code",
   "execution_count": null,
   "metadata": {},
   "outputs": [],
   "source": []
  }
 ],
 "metadata": {
  "kernelspec": {
   "display_name": "Python 3",
   "language": "python",
   "name": "python3"
  },
  "language_info": {
   "codemirror_mode": {
    "name": "ipython",
    "version": 3
   },
   "file_extension": ".py",
   "mimetype": "text/x-python",
   "name": "python",
   "nbconvert_exporter": "python",
   "pygments_lexer": "ipython3",
   "version": "3.13.0"
  }
 },
 "nbformat": 4,
 "nbformat_minor": 2
}
